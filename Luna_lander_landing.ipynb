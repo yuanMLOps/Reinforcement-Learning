{
 "cells": [
  {
   "cell_type": "markdown",
   "id": "37513ac7-0a1d-478a-83e5-3c4880a13025",
   "metadata": {},
   "source": [
    "### Code to show landing process"
   ]
  },
  {
   "cell_type": "markdown",
   "id": "5c2aa361-2c0a-485e-9476-f275606cf3c0",
   "metadata": {},
   "source": [
    "#### show the landing interactively"
   ]
  },
  {
   "cell_type": "code",
   "execution_count": null,
   "id": "b92653fa-e8fc-4718-ac75-fba36d190993",
   "metadata": {},
   "outputs": [],
   "source": [
    " # interactive process to show the landing process\n",
    "import gymnasium as gym\n",
    "\n",
    "env = gym.make(\"LunarLander-v3\", render_mode=\"human\")\n",
    "obs, _ = env.reset()\n",
    "done = False\n",
    "\n",
    "while not done:\n",
    "    action = policy(obs)  # Replace with your model's action\n",
    "    obs, reward, terminated, truncated, _ = env.step(action)\n",
    "    done = terminated or truncated"
   ]
  },
  {
   "cell_type": "markdown",
   "id": "643f664b-72bd-4d7d-ad1b-4f3ddf7e5cbf",
   "metadata": {},
   "source": [
    "#### Save landing process as a video file to play later"
   ]
  },
  {
   "cell_type": "code",
   "execution_count": null,
   "id": "6ed6fc92-326e-4e72-9ba1-2b29810ecd2a",
   "metadata": {},
   "outputs": [],
   "source": [
    "env = gym.make(\"LunarLander-v3\", render_mode=\"rgb_array\")\n",
    "frames = []\n",
    "\n",
    "obs, _ = env.reset()\n",
    "done = False\n",
    "\n",
    "while not done:\n",
    "    frames.append(env.render())\n",
    "    action = policy(obs)\n",
    "    obs, reward, terminated, truncated, _ = env.step(action)\n",
    "    done = terminated or truncated\n",
    "\n",
    "env.close()\n",
    "\n",
    "# play the video\n",
    "\n",
    "import imageio\n",
    "\n",
    "imageio.mimsave(\"lander.gif\", frames, fps=30)\n"
   ]
  }
 ],
 "metadata": {
  "kernelspec": {
   "display_name": "Python (RL)",
   "language": "python",
   "name": "rl"
  },
  "language_info": {
   "codemirror_mode": {
    "name": "ipython",
    "version": 3
   },
   "file_extension": ".py",
   "mimetype": "text/x-python",
   "name": "python",
   "nbconvert_exporter": "python",
   "pygments_lexer": "ipython3",
   "version": "3.10.18"
  }
 },
 "nbformat": 4,
 "nbformat_minor": 5
}
